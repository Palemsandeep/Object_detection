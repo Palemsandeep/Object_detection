{
  "cells": [
    {
      "cell_type": "markdown",
      "metadata": {
        "id": "view-in-github",
        "colab_type": "text"
      },
      "source": [
        "<a href=\"https://colab.research.google.com/github/Palemsandeep/Object_detection/blob/main/SEM-2/Data%20Science/Programs/02_EDA_On_Bussiness_Dataset.ipynb\" target=\"_parent\"><img src=\"https://colab.research.google.com/assets/colab-badge.svg\" alt=\"Open In Colab\"/></a>"
      ]
    },
    {
      "cell_type": "code",
      "source": [
        "# ***********************************************************************************************\n",
        "  \n",
        "  # File Name \t:   Program_02_EDA_On_Bussiness_Dataset\n",
        "  # Purpose \t  :   Exploratory data analysis On Business Dataset - II\n",
        "  # Author\t    :   Deepsphere.ai\n",
        "  # Reviewer \t  :   Jothi Periasamy\n",
        "  # Date        :   08/02/2023 \n",
        "  # Version\t    :   1.0\t\n",
        "  \n",
        "# ***********************************************************************************************\n",
        "\n",
        "## Program Description : Exploratory data analysis On Business Dataset\n",
        "\n",
        "\n",
        "# 1.Import Libraries\n",
        "# 2. Examining numerical and categorical features from the dataframe \n",
        "# 3. Checking for NAN  or null vlaues in Numerical columns to remove\n",
        "# 4. checking whether data follow Normal Distribution or skewed Distribution\n",
        "# 5. Finding Correlation coefficients (Sales Price feature vs Remaning Features)\n",
        "# 6. To check and Remove outliers in Numeric Features\n",
        " \n",
        "\n",
        "## Python Development Environment & Runtime - Python, Anaconda"
      ],
      "metadata": {
        "id": "YBinogmie0wN"
      },
      "execution_count": 116,
      "outputs": []
    },
    {
      "cell_type": "markdown",
      "source": [
        "# Exploratory data analysis On Business Dataset."
      ],
      "metadata": {
        "id": "64DgVg4_v_iZ"
      }
    },
    {
      "metadata": {
        "_uuid": "180b0071b029d87539564d7d5dc9196a03965380",
        "id": "1WMY4JUrA9pe"
      },
      "cell_type": "markdown",
      "source": [
        "Exploratory Data Analysis (EDA) is a crucial initial step in the data analysis process where the goal is to understand the underlying structure, patterns, relationships, and anomalies in a dataset. It is a process of visually and statistically investigating a dataset to gain insights, identify trends and relationships, and uncover any potential issues or limitations. EDA typically involves techniques such as:\n",
        "\n",
        "Descriptive statistics (e.g., mean, median, standard deviation, etc.) to understand the basic structure of the data.\n",
        "Data visualization (e.g., histograms, scatter plots, box plots, etc.) to visually represent the relationships between variables and to identify outliers or anomalies.\n",
        "Dimensionality reduction techniques (e.g., PCA, t-SNE, etc.) to reduce the number of variables and visualize complex relationships.\n",
        "Hypothesis testing to test assumptions about the data and make inferences about the population based on the sample.\n",
        "EDA is an iterative process, and the results of EDA can inform the selection of appropriate statistical models and algorithms for the subsequent stages of data analysis.\n",
        "   \n",
        "## Overview\n",
        "\n",
        "This is an exploratory data analysis on the House Prices Kaggle Competition found at \n",
        "\n",
        "https://www.kaggle.com/c/house-prices-advanced-regression-techniques\n"
      ]
    },
    {
      "cell_type": "markdown",
      "source": [
        "The dream home of a potential buyer is likely not defined by the height of the basement ceiling or the location near a railroad. However, the dataset used in this housing competition shows that numerous factors contribute to determining the final price of a home, including the number of bedrooms and fence type. There are 1460 training instances and 1460 test instances, with a total of 81 attributes. 36 are numerical, 43 are categorical, and the rest are identification and sale price. Numerical features include variables such as square footage, number of bathrooms, and the year built. Categorical features include details like the type of heating, exterior finish, and neighborhood."
      ],
      "metadata": {
        "id": "MGYnoiUziYg_"
      }
    },
    {
      "metadata": {
        "_uuid": "7414eb7c900e2d4546a4b3d108ce11fddee44e57",
        "id": "f8_z6_jGA9pi"
      },
      "cell_type": "markdown",
      "source": [
        "## 1.Import Libraries"
      ]
    },
    {
      "metadata": {
        "_uuid": "46972c9825af86d41d2eedbbab57ea95956f05ba",
        "_cell_guid": "a9e1c407-125d-4a92-a5d8-93d383b5fca0",
        "trusted": true,
        "_kg_hide-input": true,
        "id": "61HtwGq_A9pj"
      },
      "cell_type": "code",
      "source": [
        "import pandas as pd\n",
        "import numpy as np\n",
        "import matplotlib as mpl\n",
        "import matplotlib.pyplot as plt\n",
        "%matplotlib inline\n",
        "import seaborn as sns\n",
        "import scipy.stats as st\n",
        "import warnings\n",
        "warnings.filterwarnings(\"ignore\")"
      ],
      "execution_count": 117,
      "outputs": []
    },
    {
      "metadata": {
        "_uuid": "73e8b7366d53b79de9299b0704d97812c91edb77",
        "id": "67cYVfO9A9pk"
      },
      "cell_type": "markdown",
      "source": [
        "To begin working with your data, you will need to load it into your program. Thanks to the Pandas library, this process is straightforward: you can import the library and use the read_csv() function to load the data from the URL, specifying any necessary arguments like the delimiter or column names."
      ]
    },
    {
      "metadata": {
        "_uuid": "a4e8a61875e410af47250d576791e4247a4e29ba",
        "_cell_guid": "fdef65e6-1a5f-414d-86be-4f1c26019efa",
        "trusted": true,
        "_kg_hide-input": true,
        "id": "C8VvSfgHA9pk"
      },
      "cell_type": "code",
      "source": [
        "dataframe = pd.read_csv('https://raw.githubusercontent.com/Deepsphere-AI/BCA/main/SEM-2/Data%20Science/Programs/Data/train.csv')"
      ],
      "execution_count": 118,
      "outputs": []
    },
    {
      "metadata": {
        "_uuid": "26c407890e7e155f7d4f6852c9a2138e7de7d101",
        "id": "z98f_wy8A9pk"
      },
      "cell_type": "markdown",
      "source": [
        "A basic understanding of your data can be obtained by getting a summary of its characteristics. The describe() function in Pandas provides various statistics that exclude missing values."
      ]
    },
    {
      "metadata": {
        "_uuid": "f7acab16176a0cd1711a98d3762fd363513de1a7",
        "id": "nEhKF8UaA9pk"
      },
      "cell_type": "markdown",
      "source": [
        "You can examine the data further by using the head() and tail() functions to view the first and last lines of the DataFrame, respectively."
      ]
    },
    {
      "metadata": {
        "_uuid": "59ab0313dce89149f7d009de38f52aa7bf2cbb45",
        "_cell_guid": "98a867ec-3d5f-4031-a1ea-605ef11c3fea",
        "trusted": true,
        "_kg_hide-input": true,
        "id": "QmgboJhsA9pk",
        "colab": {
          "base_uri": "https://localhost:8080/",
          "height": 351
        },
        "outputId": "a209396b-1033-444a-e7dc-4ee5ae2ee286"
      },
      "cell_type": "code",
      "source": [
        "print(\"\\n\\t\\t\\t\\t************************* Top 5 Rows ************************\\n\")\n",
        "dataframe.head()"
      ],
      "execution_count": 119,
      "outputs": [
        {
          "output_type": "stream",
          "name": "stdout",
          "text": [
            "\n",
            "\t\t\t\t************************* Top 5 Rows ************************\n",
            "\n"
          ]
        },
        {
          "output_type": "execute_result",
          "data": {
            "text/plain": [
              "   Id  MSSubClass MSZoning  LotFrontage  LotArea Street Alley LotShape  \\\n",
              "0   1          60       RL         65.0     8450   Pave   NaN      Reg   \n",
              "1   2          20       RL         80.0     9600   Pave   NaN      Reg   \n",
              "2   3          60       RL         68.0    11250   Pave   NaN      IR1   \n",
              "3   4          70       RL         60.0     9550   Pave   NaN      IR1   \n",
              "4   5          60       RL         84.0    14260   Pave   NaN      IR1   \n",
              "\n",
              "  LandContour Utilities  ... PoolArea PoolQC Fence MiscFeature MiscVal MoSold  \\\n",
              "0         Lvl    AllPub  ...        0    NaN   NaN         NaN       0      2   \n",
              "1         Lvl    AllPub  ...        0    NaN   NaN         NaN       0      5   \n",
              "2         Lvl    AllPub  ...        0    NaN   NaN         NaN       0      9   \n",
              "3         Lvl    AllPub  ...        0    NaN   NaN         NaN       0      2   \n",
              "4         Lvl    AllPub  ...        0    NaN   NaN         NaN       0     12   \n",
              "\n",
              "  YrSold  SaleType  SaleCondition  SalePrice  \n",
              "0   2008        WD         Normal     208500  \n",
              "1   2007        WD         Normal     181500  \n",
              "2   2008        WD         Normal     223500  \n",
              "3   2006        WD        Abnorml     140000  \n",
              "4   2008        WD         Normal     250000  \n",
              "\n",
              "[5 rows x 81 columns]"
            ],
            "text/html": [
              "\n",
              "  <div id=\"df-cf65a705-2b94-44a5-b35a-df2eef3d22dd\">\n",
              "    <div class=\"colab-df-container\">\n",
              "      <div>\n",
              "<style scoped>\n",
              "    .dataframe tbody tr th:only-of-type {\n",
              "        vertical-align: middle;\n",
              "    }\n",
              "\n",
              "    .dataframe tbody tr th {\n",
              "        vertical-align: top;\n",
              "    }\n",
              "\n",
              "    .dataframe thead th {\n",
              "        text-align: right;\n",
              "    }\n",
              "</style>\n",
              "<table border=\"1\" class=\"dataframe\">\n",
              "  <thead>\n",
              "    <tr style=\"text-align: right;\">\n",
              "      <th></th>\n",
              "      <th>Id</th>\n",
              "      <th>MSSubClass</th>\n",
              "      <th>MSZoning</th>\n",
              "      <th>LotFrontage</th>\n",
              "      <th>LotArea</th>\n",
              "      <th>Street</th>\n",
              "      <th>Alley</th>\n",
              "      <th>LotShape</th>\n",
              "      <th>LandContour</th>\n",
              "      <th>Utilities</th>\n",
              "      <th>...</th>\n",
              "      <th>PoolArea</th>\n",
              "      <th>PoolQC</th>\n",
              "      <th>Fence</th>\n",
              "      <th>MiscFeature</th>\n",
              "      <th>MiscVal</th>\n",
              "      <th>MoSold</th>\n",
              "      <th>YrSold</th>\n",
              "      <th>SaleType</th>\n",
              "      <th>SaleCondition</th>\n",
              "      <th>SalePrice</th>\n",
              "    </tr>\n",
              "  </thead>\n",
              "  <tbody>\n",
              "    <tr>\n",
              "      <th>0</th>\n",
              "      <td>1</td>\n",
              "      <td>60</td>\n",
              "      <td>RL</td>\n",
              "      <td>65.0</td>\n",
              "      <td>8450</td>\n",
              "      <td>Pave</td>\n",
              "      <td>NaN</td>\n",
              "      <td>Reg</td>\n",
              "      <td>Lvl</td>\n",
              "      <td>AllPub</td>\n",
              "      <td>...</td>\n",
              "      <td>0</td>\n",
              "      <td>NaN</td>\n",
              "      <td>NaN</td>\n",
              "      <td>NaN</td>\n",
              "      <td>0</td>\n",
              "      <td>2</td>\n",
              "      <td>2008</td>\n",
              "      <td>WD</td>\n",
              "      <td>Normal</td>\n",
              "      <td>208500</td>\n",
              "    </tr>\n",
              "    <tr>\n",
              "      <th>1</th>\n",
              "      <td>2</td>\n",
              "      <td>20</td>\n",
              "      <td>RL</td>\n",
              "      <td>80.0</td>\n",
              "      <td>9600</td>\n",
              "      <td>Pave</td>\n",
              "      <td>NaN</td>\n",
              "      <td>Reg</td>\n",
              "      <td>Lvl</td>\n",
              "      <td>AllPub</td>\n",
              "      <td>...</td>\n",
              "      <td>0</td>\n",
              "      <td>NaN</td>\n",
              "      <td>NaN</td>\n",
              "      <td>NaN</td>\n",
              "      <td>0</td>\n",
              "      <td>5</td>\n",
              "      <td>2007</td>\n",
              "      <td>WD</td>\n",
              "      <td>Normal</td>\n",
              "      <td>181500</td>\n",
              "    </tr>\n",
              "    <tr>\n",
              "      <th>2</th>\n",
              "      <td>3</td>\n",
              "      <td>60</td>\n",
              "      <td>RL</td>\n",
              "      <td>68.0</td>\n",
              "      <td>11250</td>\n",
              "      <td>Pave</td>\n",
              "      <td>NaN</td>\n",
              "      <td>IR1</td>\n",
              "      <td>Lvl</td>\n",
              "      <td>AllPub</td>\n",
              "      <td>...</td>\n",
              "      <td>0</td>\n",
              "      <td>NaN</td>\n",
              "      <td>NaN</td>\n",
              "      <td>NaN</td>\n",
              "      <td>0</td>\n",
              "      <td>9</td>\n",
              "      <td>2008</td>\n",
              "      <td>WD</td>\n",
              "      <td>Normal</td>\n",
              "      <td>223500</td>\n",
              "    </tr>\n",
              "    <tr>\n",
              "      <th>3</th>\n",
              "      <td>4</td>\n",
              "      <td>70</td>\n",
              "      <td>RL</td>\n",
              "      <td>60.0</td>\n",
              "      <td>9550</td>\n",
              "      <td>Pave</td>\n",
              "      <td>NaN</td>\n",
              "      <td>IR1</td>\n",
              "      <td>Lvl</td>\n",
              "      <td>AllPub</td>\n",
              "      <td>...</td>\n",
              "      <td>0</td>\n",
              "      <td>NaN</td>\n",
              "      <td>NaN</td>\n",
              "      <td>NaN</td>\n",
              "      <td>0</td>\n",
              "      <td>2</td>\n",
              "      <td>2006</td>\n",
              "      <td>WD</td>\n",
              "      <td>Abnorml</td>\n",
              "      <td>140000</td>\n",
              "    </tr>\n",
              "    <tr>\n",
              "      <th>4</th>\n",
              "      <td>5</td>\n",
              "      <td>60</td>\n",
              "      <td>RL</td>\n",
              "      <td>84.0</td>\n",
              "      <td>14260</td>\n",
              "      <td>Pave</td>\n",
              "      <td>NaN</td>\n",
              "      <td>IR1</td>\n",
              "      <td>Lvl</td>\n",
              "      <td>AllPub</td>\n",
              "      <td>...</td>\n",
              "      <td>0</td>\n",
              "      <td>NaN</td>\n",
              "      <td>NaN</td>\n",
              "      <td>NaN</td>\n",
              "      <td>0</td>\n",
              "      <td>12</td>\n",
              "      <td>2008</td>\n",
              "      <td>WD</td>\n",
              "      <td>Normal</td>\n",
              "      <td>250000</td>\n",
              "    </tr>\n",
              "  </tbody>\n",
              "</table>\n",
              "<p>5 rows × 81 columns</p>\n",
              "</div>\n",
              "      <button class=\"colab-df-convert\" onclick=\"convertToInteractive('df-cf65a705-2b94-44a5-b35a-df2eef3d22dd')\"\n",
              "              title=\"Convert this dataframe to an interactive table.\"\n",
              "              style=\"display:none;\">\n",
              "        \n",
              "  <svg xmlns=\"http://www.w3.org/2000/svg\" height=\"24px\"viewBox=\"0 0 24 24\"\n",
              "       width=\"24px\">\n",
              "    <path d=\"M0 0h24v24H0V0z\" fill=\"none\"/>\n",
              "    <path d=\"M18.56 5.44l.94 2.06.94-2.06 2.06-.94-2.06-.94-.94-2.06-.94 2.06-2.06.94zm-11 1L8.5 8.5l.94-2.06 2.06-.94-2.06-.94L8.5 2.5l-.94 2.06-2.06.94zm10 10l.94 2.06.94-2.06 2.06-.94-2.06-.94-.94-2.06-.94 2.06-2.06.94z\"/><path d=\"M17.41 7.96l-1.37-1.37c-.4-.4-.92-.59-1.43-.59-.52 0-1.04.2-1.43.59L10.3 9.45l-7.72 7.72c-.78.78-.78 2.05 0 2.83L4 21.41c.39.39.9.59 1.41.59.51 0 1.02-.2 1.41-.59l7.78-7.78 2.81-2.81c.8-.78.8-2.07 0-2.86zM5.41 20L4 18.59l7.72-7.72 1.47 1.35L5.41 20z\"/>\n",
              "  </svg>\n",
              "      </button>\n",
              "      \n",
              "  <style>\n",
              "    .colab-df-container {\n",
              "      display:flex;\n",
              "      flex-wrap:wrap;\n",
              "      gap: 12px;\n",
              "    }\n",
              "\n",
              "    .colab-df-convert {\n",
              "      background-color: #E8F0FE;\n",
              "      border: none;\n",
              "      border-radius: 50%;\n",
              "      cursor: pointer;\n",
              "      display: none;\n",
              "      fill: #1967D2;\n",
              "      height: 32px;\n",
              "      padding: 0 0 0 0;\n",
              "      width: 32px;\n",
              "    }\n",
              "\n",
              "    .colab-df-convert:hover {\n",
              "      background-color: #E2EBFA;\n",
              "      box-shadow: 0px 1px 2px rgba(60, 64, 67, 0.3), 0px 1px 3px 1px rgba(60, 64, 67, 0.15);\n",
              "      fill: #174EA6;\n",
              "    }\n",
              "\n",
              "    [theme=dark] .colab-df-convert {\n",
              "      background-color: #3B4455;\n",
              "      fill: #D2E3FC;\n",
              "    }\n",
              "\n",
              "    [theme=dark] .colab-df-convert:hover {\n",
              "      background-color: #434B5C;\n",
              "      box-shadow: 0px 1px 3px 1px rgba(0, 0, 0, 0.15);\n",
              "      filter: drop-shadow(0px 1px 2px rgba(0, 0, 0, 0.3));\n",
              "      fill: #FFFFFF;\n",
              "    }\n",
              "  </style>\n",
              "\n",
              "      <script>\n",
              "        const buttonEl =\n",
              "          document.querySelector('#df-cf65a705-2b94-44a5-b35a-df2eef3d22dd button.colab-df-convert');\n",
              "        buttonEl.style.display =\n",
              "          google.colab.kernel.accessAllowed ? 'block' : 'none';\n",
              "\n",
              "        async function convertToInteractive(key) {\n",
              "          const element = document.querySelector('#df-cf65a705-2b94-44a5-b35a-df2eef3d22dd');\n",
              "          const dataTable =\n",
              "            await google.colab.kernel.invokeFunction('convertToInteractive',\n",
              "                                                     [key], {});\n",
              "          if (!dataTable) return;\n",
              "\n",
              "          const docLinkHtml = 'Like what you see? Visit the ' +\n",
              "            '<a target=\"_blank\" href=https://colab.research.google.com/notebooks/data_table.ipynb>data table notebook</a>'\n",
              "            + ' to learn more about interactive tables.';\n",
              "          element.innerHTML = '';\n",
              "          dataTable['output_type'] = 'display_data';\n",
              "          await google.colab.output.renderOutput(dataTable, element);\n",
              "          const docLink = document.createElement('div');\n",
              "          docLink.innerHTML = docLinkHtml;\n",
              "          element.appendChild(docLink);\n",
              "        }\n",
              "      </script>\n",
              "    </div>\n",
              "  </div>\n",
              "  "
            ]
          },
          "metadata": {},
          "execution_count": 119
        }
      ]
    },
    {
      "metadata": {
        "trusted": true,
        "_uuid": "3a41f42d412b2187aec174d34cc0ff09804e1d0b",
        "_kg_hide-input": false,
        "id": "M4ZoLU7pA9pl",
        "colab": {
          "base_uri": "https://localhost:8080/",
          "height": 351
        },
        "outputId": "59221065-dc03-4e9c-9bcb-5b26532b7599"
      },
      "cell_type": "code",
      "source": [
        "print(\"\\n\\t\\t\\t\\t************************* Last 5 Rows ************************\\n\")\n",
        "dataframe.tail()"
      ],
      "execution_count": 120,
      "outputs": [
        {
          "output_type": "stream",
          "name": "stdout",
          "text": [
            "\n",
            "\t\t\t\t************************* Last 5 Rows ************************\n",
            "\n"
          ]
        },
        {
          "output_type": "execute_result",
          "data": {
            "text/plain": [
              "        Id  MSSubClass MSZoning  LotFrontage  LotArea Street Alley LotShape  \\\n",
              "1455  1456          60       RL         62.0     7917   Pave   NaN      Reg   \n",
              "1456  1457          20       RL         85.0    13175   Pave   NaN      Reg   \n",
              "1457  1458          70       RL         66.0     9042   Pave   NaN      Reg   \n",
              "1458  1459          20       RL         68.0     9717   Pave   NaN      Reg   \n",
              "1459  1460          20       RL         75.0     9937   Pave   NaN      Reg   \n",
              "\n",
              "     LandContour Utilities  ... PoolArea PoolQC  Fence MiscFeature MiscVal  \\\n",
              "1455         Lvl    AllPub  ...        0    NaN    NaN         NaN       0   \n",
              "1456         Lvl    AllPub  ...        0    NaN  MnPrv         NaN       0   \n",
              "1457         Lvl    AllPub  ...        0    NaN  GdPrv        Shed    2500   \n",
              "1458         Lvl    AllPub  ...        0    NaN    NaN         NaN       0   \n",
              "1459         Lvl    AllPub  ...        0    NaN    NaN         NaN       0   \n",
              "\n",
              "     MoSold YrSold  SaleType  SaleCondition  SalePrice  \n",
              "1455      8   2007        WD         Normal     175000  \n",
              "1456      2   2010        WD         Normal     210000  \n",
              "1457      5   2010        WD         Normal     266500  \n",
              "1458      4   2010        WD         Normal     142125  \n",
              "1459      6   2008        WD         Normal     147500  \n",
              "\n",
              "[5 rows x 81 columns]"
            ],
            "text/html": [
              "\n",
              "  <div id=\"df-017a76d9-dd3b-4928-85a5-b2e96c29b3eb\">\n",
              "    <div class=\"colab-df-container\">\n",
              "      <div>\n",
              "<style scoped>\n",
              "    .dataframe tbody tr th:only-of-type {\n",
              "        vertical-align: middle;\n",
              "    }\n",
              "\n",
              "    .dataframe tbody tr th {\n",
              "        vertical-align: top;\n",
              "    }\n",
              "\n",
              "    .dataframe thead th {\n",
              "        text-align: right;\n",
              "    }\n",
              "</style>\n",
              "<table border=\"1\" class=\"dataframe\">\n",
              "  <thead>\n",
              "    <tr style=\"text-align: right;\">\n",
              "      <th></th>\n",
              "      <th>Id</th>\n",
              "      <th>MSSubClass</th>\n",
              "      <th>MSZoning</th>\n",
              "      <th>LotFrontage</th>\n",
              "      <th>LotArea</th>\n",
              "      <th>Street</th>\n",
              "      <th>Alley</th>\n",
              "      <th>LotShape</th>\n",
              "      <th>LandContour</th>\n",
              "      <th>Utilities</th>\n",
              "      <th>...</th>\n",
              "      <th>PoolArea</th>\n",
              "      <th>PoolQC</th>\n",
              "      <th>Fence</th>\n",
              "      <th>MiscFeature</th>\n",
              "      <th>MiscVal</th>\n",
              "      <th>MoSold</th>\n",
              "      <th>YrSold</th>\n",
              "      <th>SaleType</th>\n",
              "      <th>SaleCondition</th>\n",
              "      <th>SalePrice</th>\n",
              "    </tr>\n",
              "  </thead>\n",
              "  <tbody>\n",
              "    <tr>\n",
              "      <th>1455</th>\n",
              "      <td>1456</td>\n",
              "      <td>60</td>\n",
              "      <td>RL</td>\n",
              "      <td>62.0</td>\n",
              "      <td>7917</td>\n",
              "      <td>Pave</td>\n",
              "      <td>NaN</td>\n",
              "      <td>Reg</td>\n",
              "      <td>Lvl</td>\n",
              "      <td>AllPub</td>\n",
              "      <td>...</td>\n",
              "      <td>0</td>\n",
              "      <td>NaN</td>\n",
              "      <td>NaN</td>\n",
              "      <td>NaN</td>\n",
              "      <td>0</td>\n",
              "      <td>8</td>\n",
              "      <td>2007</td>\n",
              "      <td>WD</td>\n",
              "      <td>Normal</td>\n",
              "      <td>175000</td>\n",
              "    </tr>\n",
              "    <tr>\n",
              "      <th>1456</th>\n",
              "      <td>1457</td>\n",
              "      <td>20</td>\n",
              "      <td>RL</td>\n",
              "      <td>85.0</td>\n",
              "      <td>13175</td>\n",
              "      <td>Pave</td>\n",
              "      <td>NaN</td>\n",
              "      <td>Reg</td>\n",
              "      <td>Lvl</td>\n",
              "      <td>AllPub</td>\n",
              "      <td>...</td>\n",
              "      <td>0</td>\n",
              "      <td>NaN</td>\n",
              "      <td>MnPrv</td>\n",
              "      <td>NaN</td>\n",
              "      <td>0</td>\n",
              "      <td>2</td>\n",
              "      <td>2010</td>\n",
              "      <td>WD</td>\n",
              "      <td>Normal</td>\n",
              "      <td>210000</td>\n",
              "    </tr>\n",
              "    <tr>\n",
              "      <th>1457</th>\n",
              "      <td>1458</td>\n",
              "      <td>70</td>\n",
              "      <td>RL</td>\n",
              "      <td>66.0</td>\n",
              "      <td>9042</td>\n",
              "      <td>Pave</td>\n",
              "      <td>NaN</td>\n",
              "      <td>Reg</td>\n",
              "      <td>Lvl</td>\n",
              "      <td>AllPub</td>\n",
              "      <td>...</td>\n",
              "      <td>0</td>\n",
              "      <td>NaN</td>\n",
              "      <td>GdPrv</td>\n",
              "      <td>Shed</td>\n",
              "      <td>2500</td>\n",
              "      <td>5</td>\n",
              "      <td>2010</td>\n",
              "      <td>WD</td>\n",
              "      <td>Normal</td>\n",
              "      <td>266500</td>\n",
              "    </tr>\n",
              "    <tr>\n",
              "      <th>1458</th>\n",
              "      <td>1459</td>\n",
              "      <td>20</td>\n",
              "      <td>RL</td>\n",
              "      <td>68.0</td>\n",
              "      <td>9717</td>\n",
              "      <td>Pave</td>\n",
              "      <td>NaN</td>\n",
              "      <td>Reg</td>\n",
              "      <td>Lvl</td>\n",
              "      <td>AllPub</td>\n",
              "      <td>...</td>\n",
              "      <td>0</td>\n",
              "      <td>NaN</td>\n",
              "      <td>NaN</td>\n",
              "      <td>NaN</td>\n",
              "      <td>0</td>\n",
              "      <td>4</td>\n",
              "      <td>2010</td>\n",
              "      <td>WD</td>\n",
              "      <td>Normal</td>\n",
              "      <td>142125</td>\n",
              "    </tr>\n",
              "    <tr>\n",
              "      <th>1459</th>\n",
              "      <td>1460</td>\n",
              "      <td>20</td>\n",
              "      <td>RL</td>\n",
              "      <td>75.0</td>\n",
              "      <td>9937</td>\n",
              "      <td>Pave</td>\n",
              "      <td>NaN</td>\n",
              "      <td>Reg</td>\n",
              "      <td>Lvl</td>\n",
              "      <td>AllPub</td>\n",
              "      <td>...</td>\n",
              "      <td>0</td>\n",
              "      <td>NaN</td>\n",
              "      <td>NaN</td>\n",
              "      <td>NaN</td>\n",
              "      <td>0</td>\n",
              "      <td>6</td>\n",
              "      <td>2008</td>\n",
              "      <td>WD</td>\n",
              "      <td>Normal</td>\n",
              "      <td>147500</td>\n",
              "    </tr>\n",
              "  </tbody>\n",
              "</table>\n",
              "<p>5 rows × 81 columns</p>\n",
              "</div>\n",
              "      <button class=\"colab-df-convert\" onclick=\"convertToInteractive('df-017a76d9-dd3b-4928-85a5-b2e96c29b3eb')\"\n",
              "              title=\"Convert this dataframe to an interactive table.\"\n",
              "              style=\"display:none;\">\n",
              "        \n",
              "  <svg xmlns=\"http://www.w3.org/2000/svg\" height=\"24px\"viewBox=\"0 0 24 24\"\n",
              "       width=\"24px\">\n",
              "    <path d=\"M0 0h24v24H0V0z\" fill=\"none\"/>\n",
              "    <path d=\"M18.56 5.44l.94 2.06.94-2.06 2.06-.94-2.06-.94-.94-2.06-.94 2.06-2.06.94zm-11 1L8.5 8.5l.94-2.06 2.06-.94-2.06-.94L8.5 2.5l-.94 2.06-2.06.94zm10 10l.94 2.06.94-2.06 2.06-.94-2.06-.94-.94-2.06-.94 2.06-2.06.94z\"/><path d=\"M17.41 7.96l-1.37-1.37c-.4-.4-.92-.59-1.43-.59-.52 0-1.04.2-1.43.59L10.3 9.45l-7.72 7.72c-.78.78-.78 2.05 0 2.83L4 21.41c.39.39.9.59 1.41.59.51 0 1.02-.2 1.41-.59l7.78-7.78 2.81-2.81c.8-.78.8-2.07 0-2.86zM5.41 20L4 18.59l7.72-7.72 1.47 1.35L5.41 20z\"/>\n",
              "  </svg>\n",
              "      </button>\n",
              "      \n",
              "  <style>\n",
              "    .colab-df-container {\n",
              "      display:flex;\n",
              "      flex-wrap:wrap;\n",
              "      gap: 12px;\n",
              "    }\n",
              "\n",
              "    .colab-df-convert {\n",
              "      background-color: #E8F0FE;\n",
              "      border: none;\n",
              "      border-radius: 50%;\n",
              "      cursor: pointer;\n",
              "      display: none;\n",
              "      fill: #1967D2;\n",
              "      height: 32px;\n",
              "      padding: 0 0 0 0;\n",
              "      width: 32px;\n",
              "    }\n",
              "\n",
              "    .colab-df-convert:hover {\n",
              "      background-color: #E2EBFA;\n",
              "      box-shadow: 0px 1px 2px rgba(60, 64, 67, 0.3), 0px 1px 3px 1px rgba(60, 64, 67, 0.15);\n",
              "      fill: #174EA6;\n",
              "    }\n",
              "\n",
              "    [theme=dark] .colab-df-convert {\n",
              "      background-color: #3B4455;\n",
              "      fill: #D2E3FC;\n",
              "    }\n",
              "\n",
              "    [theme=dark] .colab-df-convert:hover {\n",
              "      background-color: #434B5C;\n",
              "      box-shadow: 0px 1px 3px 1px rgba(0, 0, 0, 0.15);\n",
              "      filter: drop-shadow(0px 1px 2px rgba(0, 0, 0, 0.3));\n",
              "      fill: #FFFFFF;\n",
              "    }\n",
              "  </style>\n",
              "\n",
              "      <script>\n",
              "        const buttonEl =\n",
              "          document.querySelector('#df-017a76d9-dd3b-4928-85a5-b2e96c29b3eb button.colab-df-convert');\n",
              "        buttonEl.style.display =\n",
              "          google.colab.kernel.accessAllowed ? 'block' : 'none';\n",
              "\n",
              "        async function convertToInteractive(key) {\n",
              "          const element = document.querySelector('#df-017a76d9-dd3b-4928-85a5-b2e96c29b3eb');\n",
              "          const dataTable =\n",
              "            await google.colab.kernel.invokeFunction('convertToInteractive',\n",
              "                                                     [key], {});\n",
              "          if (!dataTable) return;\n",
              "\n",
              "          const docLinkHtml = 'Like what you see? Visit the ' +\n",
              "            '<a target=\"_blank\" href=https://colab.research.google.com/notebooks/data_table.ipynb>data table notebook</a>'\n",
              "            + ' to learn more about interactive tables.';\n",
              "          element.innerHTML = '';\n",
              "          dataTable['output_type'] = 'display_data';\n",
              "          await google.colab.output.renderOutput(dataTable, element);\n",
              "          const docLink = document.createElement('div');\n",
              "          docLink.innerHTML = docLinkHtml;\n",
              "          element.appendChild(docLink);\n",
              "        }\n",
              "      </script>\n",
              "    </div>\n",
              "  </div>\n",
              "  "
            ]
          },
          "metadata": {},
          "execution_count": 120
        }
      ]
    },
    {
      "metadata": {
        "trusted": true,
        "_uuid": "18f9780ebca993edf98313d743e5ac91a093a7fe",
        "_kg_hide-input": true,
        "id": "j16KmwKqA9pk",
        "colab": {
          "base_uri": "https://localhost:8080/",
          "height": 445
        },
        "outputId": "296c5639-08b7-44c5-a731-1f5956387f56"
      },
      "cell_type": "code",
      "source": [
        "print(\"\\n\\t\\t\\t\\t************************* OutPut ************************\\n\")\n",
        "dataframe.describe()"
      ],
      "execution_count": 121,
      "outputs": [
        {
          "output_type": "stream",
          "name": "stdout",
          "text": [
            "\n",
            "\t\t\t\t************************* OutPut ************************\n",
            "\n"
          ]
        },
        {
          "output_type": "execute_result",
          "data": {
            "text/plain": [
              "                Id   MSSubClass  LotFrontage        LotArea  OverallQual  \\\n",
              "count  1460.000000  1460.000000  1201.000000    1460.000000  1460.000000   \n",
              "mean    730.500000    56.897260    70.049958   10516.828082     6.099315   \n",
              "std     421.610009    42.300571    24.284752    9981.264932     1.382997   \n",
              "min       1.000000    20.000000    21.000000    1300.000000     1.000000   \n",
              "25%     365.750000    20.000000    59.000000    7553.500000     5.000000   \n",
              "50%     730.500000    50.000000    69.000000    9478.500000     6.000000   \n",
              "75%    1095.250000    70.000000    80.000000   11601.500000     7.000000   \n",
              "max    1460.000000   190.000000   313.000000  215245.000000    10.000000   \n",
              "\n",
              "       OverallCond    YearBuilt  YearRemodAdd   MasVnrArea   BsmtFinSF1  ...  \\\n",
              "count  1460.000000  1460.000000   1460.000000  1452.000000  1460.000000  ...   \n",
              "mean      5.575342  1971.267808   1984.865753   103.685262   443.639726  ...   \n",
              "std       1.112799    30.202904     20.645407   181.066207   456.098091  ...   \n",
              "min       1.000000  1872.000000   1950.000000     0.000000     0.000000  ...   \n",
              "25%       5.000000  1954.000000   1967.000000     0.000000     0.000000  ...   \n",
              "50%       5.000000  1973.000000   1994.000000     0.000000   383.500000  ...   \n",
              "75%       6.000000  2000.000000   2004.000000   166.000000   712.250000  ...   \n",
              "max       9.000000  2010.000000   2010.000000  1600.000000  5644.000000  ...   \n",
              "\n",
              "        WoodDeckSF  OpenPorchSF  EnclosedPorch    3SsnPorch  ScreenPorch  \\\n",
              "count  1460.000000  1460.000000    1460.000000  1460.000000  1460.000000   \n",
              "mean     94.244521    46.660274      21.954110     3.409589    15.060959   \n",
              "std     125.338794    66.256028      61.119149    29.317331    55.757415   \n",
              "min       0.000000     0.000000       0.000000     0.000000     0.000000   \n",
              "25%       0.000000     0.000000       0.000000     0.000000     0.000000   \n",
              "50%       0.000000    25.000000       0.000000     0.000000     0.000000   \n",
              "75%     168.000000    68.000000       0.000000     0.000000     0.000000   \n",
              "max     857.000000   547.000000     552.000000   508.000000   480.000000   \n",
              "\n",
              "          PoolArea       MiscVal       MoSold       YrSold      SalePrice  \n",
              "count  1460.000000   1460.000000  1460.000000  1460.000000    1460.000000  \n",
              "mean      2.758904     43.489041     6.321918  2007.815753  180921.195890  \n",
              "std      40.177307    496.123024     2.703626     1.328095   79442.502883  \n",
              "min       0.000000      0.000000     1.000000  2006.000000   34900.000000  \n",
              "25%       0.000000      0.000000     5.000000  2007.000000  129975.000000  \n",
              "50%       0.000000      0.000000     6.000000  2008.000000  163000.000000  \n",
              "75%       0.000000      0.000000     8.000000  2009.000000  214000.000000  \n",
              "max     738.000000  15500.000000    12.000000  2010.000000  755000.000000  \n",
              "\n",
              "[8 rows x 38 columns]"
            ],
            "text/html": [
              "\n",
              "  <div id=\"df-7a2eb64d-4fb1-44c8-a51a-547075752b42\">\n",
              "    <div class=\"colab-df-container\">\n",
              "      <div>\n",
              "<style scoped>\n",
              "    .dataframe tbody tr th:only-of-type {\n",
              "        vertical-align: middle;\n",
              "    }\n",
              "\n",
              "    .dataframe tbody tr th {\n",
              "        vertical-align: top;\n",
              "    }\n",
              "\n",
              "    .dataframe thead th {\n",
              "        text-align: right;\n",
              "    }\n",
              "</style>\n",
              "<table border=\"1\" class=\"dataframe\">\n",
              "  <thead>\n",
              "    <tr style=\"text-align: right;\">\n",
              "      <th></th>\n",
              "      <th>Id</th>\n",
              "      <th>MSSubClass</th>\n",
              "      <th>LotFrontage</th>\n",
              "      <th>LotArea</th>\n",
              "      <th>OverallQual</th>\n",
              "      <th>OverallCond</th>\n",
              "      <th>YearBuilt</th>\n",
              "      <th>YearRemodAdd</th>\n",
              "      <th>MasVnrArea</th>\n",
              "      <th>BsmtFinSF1</th>\n",
              "      <th>...</th>\n",
              "      <th>WoodDeckSF</th>\n",
              "      <th>OpenPorchSF</th>\n",
              "      <th>EnclosedPorch</th>\n",
              "      <th>3SsnPorch</th>\n",
              "      <th>ScreenPorch</th>\n",
              "      <th>PoolArea</th>\n",
              "      <th>MiscVal</th>\n",
              "      <th>MoSold</th>\n",
              "      <th>YrSold</th>\n",
              "      <th>SalePrice</th>\n",
              "    </tr>\n",
              "  </thead>\n",
              "  <tbody>\n",
              "    <tr>\n",
              "      <th>count</th>\n",
              "      <td>1460.000000</td>\n",
              "      <td>1460.000000</td>\n",
              "      <td>1201.000000</td>\n",
              "      <td>1460.000000</td>\n",
              "      <td>1460.000000</td>\n",
              "      <td>1460.000000</td>\n",
              "      <td>1460.000000</td>\n",
              "      <td>1460.000000</td>\n",
              "      <td>1452.000000</td>\n",
              "      <td>1460.000000</td>\n",
              "      <td>...</td>\n",
              "      <td>1460.000000</td>\n",
              "      <td>1460.000000</td>\n",
              "      <td>1460.000000</td>\n",
              "      <td>1460.000000</td>\n",
              "      <td>1460.000000</td>\n",
              "      <td>1460.000000</td>\n",
              "      <td>1460.000000</td>\n",
              "      <td>1460.000000</td>\n",
              "      <td>1460.000000</td>\n",
              "      <td>1460.000000</td>\n",
              "    </tr>\n",
              "    <tr>\n",
              "      <th>mean</th>\n",
              "      <td>730.500000</td>\n",
              "      <td>56.897260</td>\n",
              "      <td>70.049958</td>\n",
              "      <td>10516.828082</td>\n",
              "      <td>6.099315</td>\n",
              "      <td>5.575342</td>\n",
              "      <td>1971.267808</td>\n",
              "      <td>1984.865753</td>\n",
              "      <td>103.685262</td>\n",
              "      <td>443.639726</td>\n",
              "      <td>...</td>\n",
              "      <td>94.244521</td>\n",
              "      <td>46.660274</td>\n",
              "      <td>21.954110</td>\n",
              "      <td>3.409589</td>\n",
              "      <td>15.060959</td>\n",
              "      <td>2.758904</td>\n",
              "      <td>43.489041</td>\n",
              "      <td>6.321918</td>\n",
              "      <td>2007.815753</td>\n",
              "      <td>180921.195890</td>\n",
              "    </tr>\n",
              "    <tr>\n",
              "      <th>std</th>\n",
              "      <td>421.610009</td>\n",
              "      <td>42.300571</td>\n",
              "      <td>24.284752</td>\n",
              "      <td>9981.264932</td>\n",
              "      <td>1.382997</td>\n",
              "      <td>1.112799</td>\n",
              "      <td>30.202904</td>\n",
              "      <td>20.645407</td>\n",
              "      <td>181.066207</td>\n",
              "      <td>456.098091</td>\n",
              "      <td>...</td>\n",
              "      <td>125.338794</td>\n",
              "      <td>66.256028</td>\n",
              "      <td>61.119149</td>\n",
              "      <td>29.317331</td>\n",
              "      <td>55.757415</td>\n",
              "      <td>40.177307</td>\n",
              "      <td>496.123024</td>\n",
              "      <td>2.703626</td>\n",
              "      <td>1.328095</td>\n",
              "      <td>79442.502883</td>\n",
              "    </tr>\n",
              "    <tr>\n",
              "      <th>min</th>\n",
              "      <td>1.000000</td>\n",
              "      <td>20.000000</td>\n",
              "      <td>21.000000</td>\n",
              "      <td>1300.000000</td>\n",
              "      <td>1.000000</td>\n",
              "      <td>1.000000</td>\n",
              "      <td>1872.000000</td>\n",
              "      <td>1950.000000</td>\n",
              "      <td>0.000000</td>\n",
              "      <td>0.000000</td>\n",
              "      <td>...</td>\n",
              "      <td>0.000000</td>\n",
              "      <td>0.000000</td>\n",
              "      <td>0.000000</td>\n",
              "      <td>0.000000</td>\n",
              "      <td>0.000000</td>\n",
              "      <td>0.000000</td>\n",
              "      <td>0.000000</td>\n",
              "      <td>1.000000</td>\n",
              "      <td>2006.000000</td>\n",
              "      <td>34900.000000</td>\n",
              "    </tr>\n",
              "    <tr>\n",
              "      <th>25%</th>\n",
              "      <td>365.750000</td>\n",
              "      <td>20.000000</td>\n",
              "      <td>59.000000</td>\n",
              "      <td>7553.500000</td>\n",
              "      <td>5.000000</td>\n",
              "      <td>5.000000</td>\n",
              "      <td>1954.000000</td>\n",
              "      <td>1967.000000</td>\n",
              "      <td>0.000000</td>\n",
              "      <td>0.000000</td>\n",
              "      <td>...</td>\n",
              "      <td>0.000000</td>\n",
              "      <td>0.000000</td>\n",
              "      <td>0.000000</td>\n",
              "      <td>0.000000</td>\n",
              "      <td>0.000000</td>\n",
              "      <td>0.000000</td>\n",
              "      <td>0.000000</td>\n",
              "      <td>5.000000</td>\n",
              "      <td>2007.000000</td>\n",
              "      <td>129975.000000</td>\n",
              "    </tr>\n",
              "    <tr>\n",
              "      <th>50%</th>\n",
              "      <td>730.500000</td>\n",
              "      <td>50.000000</td>\n",
              "      <td>69.000000</td>\n",
              "      <td>9478.500000</td>\n",
              "      <td>6.000000</td>\n",
              "      <td>5.000000</td>\n",
              "      <td>1973.000000</td>\n",
              "      <td>1994.000000</td>\n",
              "      <td>0.000000</td>\n",
              "      <td>383.500000</td>\n",
              "      <td>...</td>\n",
              "      <td>0.000000</td>\n",
              "      <td>25.000000</td>\n",
              "      <td>0.000000</td>\n",
              "      <td>0.000000</td>\n",
              "      <td>0.000000</td>\n",
              "      <td>0.000000</td>\n",
              "      <td>0.000000</td>\n",
              "      <td>6.000000</td>\n",
              "      <td>2008.000000</td>\n",
              "      <td>163000.000000</td>\n",
              "    </tr>\n",
              "    <tr>\n",
              "      <th>75%</th>\n",
              "      <td>1095.250000</td>\n",
              "      <td>70.000000</td>\n",
              "      <td>80.000000</td>\n",
              "      <td>11601.500000</td>\n",
              "      <td>7.000000</td>\n",
              "      <td>6.000000</td>\n",
              "      <td>2000.000000</td>\n",
              "      <td>2004.000000</td>\n",
              "      <td>166.000000</td>\n",
              "      <td>712.250000</td>\n",
              "      <td>...</td>\n",
              "      <td>168.000000</td>\n",
              "      <td>68.000000</td>\n",
              "      <td>0.000000</td>\n",
              "      <td>0.000000</td>\n",
              "      <td>0.000000</td>\n",
              "      <td>0.000000</td>\n",
              "      <td>0.000000</td>\n",
              "      <td>8.000000</td>\n",
              "      <td>2009.000000</td>\n",
              "      <td>214000.000000</td>\n",
              "    </tr>\n",
              "    <tr>\n",
              "      <th>max</th>\n",
              "      <td>1460.000000</td>\n",
              "      <td>190.000000</td>\n",
              "      <td>313.000000</td>\n",
              "      <td>215245.000000</td>\n",
              "      <td>10.000000</td>\n",
              "      <td>9.000000</td>\n",
              "      <td>2010.000000</td>\n",
              "      <td>2010.000000</td>\n",
              "      <td>1600.000000</td>\n",
              "      <td>5644.000000</td>\n",
              "      <td>...</td>\n",
              "      <td>857.000000</td>\n",
              "      <td>547.000000</td>\n",
              "      <td>552.000000</td>\n",
              "      <td>508.000000</td>\n",
              "      <td>480.000000</td>\n",
              "      <td>738.000000</td>\n",
              "      <td>15500.000000</td>\n",
              "      <td>12.000000</td>\n",
              "      <td>2010.000000</td>\n",
              "      <td>755000.000000</td>\n",
              "    </tr>\n",
              "  </tbody>\n",
              "</table>\n",
              "<p>8 rows × 38 columns</p>\n",
              "</div>\n",
              "      <button class=\"colab-df-convert\" onclick=\"convertToInteractive('df-7a2eb64d-4fb1-44c8-a51a-547075752b42')\"\n",
              "              title=\"Convert this dataframe to an interactive table.\"\n",
              "              style=\"display:none;\">\n",
              "        \n",
              "  <svg xmlns=\"http://www.w3.org/2000/svg\" height=\"24px\"viewBox=\"0 0 24 24\"\n",
              "       width=\"24px\">\n",
              "    <path d=\"M0 0h24v24H0V0z\" fill=\"none\"/>\n",
              "    <path d=\"M18.56 5.44l.94 2.06.94-2.06 2.06-.94-2.06-.94-.94-2.06-.94 2.06-2.06.94zm-11 1L8.5 8.5l.94-2.06 2.06-.94-2.06-.94L8.5 2.5l-.94 2.06-2.06.94zm10 10l.94 2.06.94-2.06 2.06-.94-2.06-.94-.94-2.06-.94 2.06-2.06.94z\"/><path d=\"M17.41 7.96l-1.37-1.37c-.4-.4-.92-.59-1.43-.59-.52 0-1.04.2-1.43.59L10.3 9.45l-7.72 7.72c-.78.78-.78 2.05 0 2.83L4 21.41c.39.39.9.59 1.41.59.51 0 1.02-.2 1.41-.59l7.78-7.78 2.81-2.81c.8-.78.8-2.07 0-2.86zM5.41 20L4 18.59l7.72-7.72 1.47 1.35L5.41 20z\"/>\n",
              "  </svg>\n",
              "      </button>\n",
              "      \n",
              "  <style>\n",
              "    .colab-df-container {\n",
              "      display:flex;\n",
              "      flex-wrap:wrap;\n",
              "      gap: 12px;\n",
              "    }\n",
              "\n",
              "    .colab-df-convert {\n",
              "      background-color: #E8F0FE;\n",
              "      border: none;\n",
              "      border-radius: 50%;\n",
              "      cursor: pointer;\n",
              "      display: none;\n",
              "      fill: #1967D2;\n",
              "      height: 32px;\n",
              "      padding: 0 0 0 0;\n",
              "      width: 32px;\n",
              "    }\n",
              "\n",
              "    .colab-df-convert:hover {\n",
              "      background-color: #E2EBFA;\n",
              "      box-shadow: 0px 1px 2px rgba(60, 64, 67, 0.3), 0px 1px 3px 1px rgba(60, 64, 67, 0.15);\n",
              "      fill: #174EA6;\n",
              "    }\n",
              "\n",
              "    [theme=dark] .colab-df-convert {\n",
              "      background-color: #3B4455;\n",
              "      fill: #D2E3FC;\n",
              "    }\n",
              "\n",
              "    [theme=dark] .colab-df-convert:hover {\n",
              "      background-color: #434B5C;\n",
              "      box-shadow: 0px 1px 3px 1px rgba(0, 0, 0, 0.15);\n",
              "      filter: drop-shadow(0px 1px 2px rgba(0, 0, 0, 0.3));\n",
              "      fill: #FFFFFF;\n",
              "    }\n",
              "  </style>\n",
              "\n",
              "      <script>\n",
              "        const buttonEl =\n",
              "          document.querySelector('#df-7a2eb64d-4fb1-44c8-a51a-547075752b42 button.colab-df-convert');\n",
              "        buttonEl.style.display =\n",
              "          google.colab.kernel.accessAllowed ? 'block' : 'none';\n",
              "\n",
              "        async function convertToInteractive(key) {\n",
              "          const element = document.querySelector('#df-7a2eb64d-4fb1-44c8-a51a-547075752b42');\n",
              "          const dataTable =\n",
              "            await google.colab.kernel.invokeFunction('convertToInteractive',\n",
              "                                                     [key], {});\n",
              "          if (!dataTable) return;\n",
              "\n",
              "          const docLinkHtml = 'Like what you see? Visit the ' +\n",
              "            '<a target=\"_blank\" href=https://colab.research.google.com/notebooks/data_table.ipynb>data table notebook</a>'\n",
              "            + ' to learn more about interactive tables.';\n",
              "          element.innerHTML = '';\n",
              "          dataTable['output_type'] = 'display_data';\n",
              "          await google.colab.output.renderOutput(dataTable, element);\n",
              "          const docLink = document.createElement('div');\n",
              "          docLink.innerHTML = docLinkHtml;\n",
              "          element.appendChild(docLink);\n",
              "        }\n",
              "      </script>\n",
              "    </div>\n",
              "  </div>\n",
              "  "
            ]
          },
          "metadata": {},
          "execution_count": 121
        }
      ]
    },
    {
      "metadata": {
        "_uuid": "34b223303c843ef1c078858f1ec9ad88c4a71da0",
        "_cell_guid": "60adf879-2079-4232-95e5-c57d7d6873e9",
        "trusted": true,
        "_kg_hide-input": true,
        "id": "u9YkgjgTA9pl",
        "colab": {
          "base_uri": "https://localhost:8080/"
        },
        "outputId": "722c034e-1dca-4ff7-fc9f-274eeaac8a6e"
      },
      "cell_type": "code",
      "source": [
        "print(\"\\n******************* OutPut ********************\\n\")\n",
        "print(dataframe.shape)\n",
        "print(\"\\n***********************************************\\n\")"
      ],
      "execution_count": 122,
      "outputs": [
        {
          "output_type": "stream",
          "name": "stdout",
          "text": [
            "\n",
            "******************* OutPut ********************\n",
            "\n",
            "(1460, 81)\n",
            "\n",
            "***********************************************\n",
            "\n"
          ]
        }
      ]
    },
    {
      "metadata": {
        "_uuid": "cb45721d9c3774d4110fd9967fcbeaa1428c3814",
        "id": "O_iTAJ9UA9pl"
      },
      "cell_type": "markdown",
      "source": [
        "### 2. Examining numerical and categorical features from the dataframe "
      ]
    },
    {
      "metadata": {
        "_uuid": "c98144abed702dee56ff5c1df6706721aef22751",
        "_cell_guid": "647c4799-8797-4c36-8961-54c16bd50f50",
        "trusted": true,
        "_kg_hide-input": true,
        "id": "wayfpzWiA9pl",
        "colab": {
          "base_uri": "https://localhost:8080/"
        },
        "outputId": "956616da-bfb3-4030-982f-f997245b096c"
      },
      "cell_type": "code",
      "source": [
        "numeric_features = dataframe.select_dtypes(include=[np.number])\n",
        "print(\"\\n\\t\\t******************* OutPut ********************\\n\")\n",
        "print(numeric_features.columns)\n",
        "print(\"\\n\\t\\t***********************************************\\n\")"
      ],
      "execution_count": 123,
      "outputs": [
        {
          "output_type": "stream",
          "name": "stdout",
          "text": [
            "\n",
            "\t\t******************* OutPut ********************\n",
            "\n",
            "Index(['Id', 'MSSubClass', 'LotFrontage', 'LotArea', 'OverallQual',\n",
            "       'OverallCond', 'YearBuilt', 'YearRemodAdd', 'MasVnrArea', 'BsmtFinSF1',\n",
            "       'BsmtFinSF2', 'BsmtUnfSF', 'TotalBsmtSF', '1stFlrSF', '2ndFlrSF',\n",
            "       'LowQualFinSF', 'GrLivArea', 'BsmtFullBath', 'BsmtHalfBath', 'FullBath',\n",
            "       'HalfBath', 'BedroomAbvGr', 'KitchenAbvGr', 'TotRmsAbvGrd',\n",
            "       'Fireplaces', 'GarageYrBlt', 'GarageCars', 'GarageArea', 'WoodDeckSF',\n",
            "       'OpenPorchSF', 'EnclosedPorch', '3SsnPorch', 'ScreenPorch', 'PoolArea',\n",
            "       'MiscVal', 'MoSold', 'YrSold', 'SalePrice'],\n",
            "      dtype='object')\n",
            "\n",
            "\t\t***********************************************\n",
            "\n"
          ]
        }
      ]
    },
    {
      "cell_type": "code",
      "source": [
        "print(\"\\n\\t\\t******************* OutPut ********************\\n\")\n",
        "categorical_features = dataframe.select_dtypes(include=[np.object])\n",
        "print(categorical_features.columns)\n",
        "print(\"\\n\\t\\t************************************************\\n\")"
      ],
      "metadata": {
        "id": "d_BigLihW-EI",
        "colab": {
          "base_uri": "https://localhost:8080/"
        },
        "outputId": "ffaee87c-5326-4b1b-927d-fd43821eb0c7"
      },
      "execution_count": 124,
      "outputs": [
        {
          "output_type": "stream",
          "name": "stdout",
          "text": [
            "\n",
            "\t\t******************* OutPut ********************\n",
            "\n",
            "Index(['MSZoning', 'Street', 'Alley', 'LotShape', 'LandContour', 'Utilities',\n",
            "       'LotConfig', 'LandSlope', 'Neighborhood', 'Condition1', 'Condition2',\n",
            "       'BldgType', 'HouseStyle', 'RoofStyle', 'RoofMatl', 'Exterior1st',\n",
            "       'Exterior2nd', 'MasVnrType', 'ExterQual', 'ExterCond', 'Foundation',\n",
            "       'BsmtQual', 'BsmtCond', 'BsmtExposure', 'BsmtFinType1', 'BsmtFinType2',\n",
            "       'Heating', 'HeatingQC', 'CentralAir', 'Electrical', 'KitchenQual',\n",
            "       'Functional', 'FireplaceQu', 'GarageType', 'GarageFinish', 'GarageQual',\n",
            "       'GarageCond', 'PavedDrive', 'PoolQC', 'Fence', 'MiscFeature',\n",
            "       'SaleType', 'SaleCondition'],\n",
            "      dtype='object')\n",
            "\n",
            "\t\t************************************************\n",
            "\n"
          ]
        }
      ]
    },
    {
      "cell_type": "markdown",
      "source": [
        "### 3. Checking for NAN  or null vlaues in Numerical columns to remove ."
      ],
      "metadata": {
        "id": "Z4ya58TO8YRq"
      }
    },
    {
      "cell_type": "code",
      "source": [
        "print(\"\\n******************* OutPut ********************\\n\")\n",
        "print(dataframe.isna().sum())\n",
        "print(\"\\n***********************************************\\n\")"
      ],
      "metadata": {
        "id": "X9eSMOrEpx4E",
        "colab": {
          "base_uri": "https://localhost:8080/"
        },
        "outputId": "38c564cb-f1bb-44f3-d06d-49893bf1e7da"
      },
      "execution_count": 125,
      "outputs": [
        {
          "output_type": "stream",
          "name": "stdout",
          "text": [
            "\n",
            "******************* OutPut ********************\n",
            "\n",
            "Id                 0\n",
            "MSSubClass         0\n",
            "MSZoning           0\n",
            "LotFrontage      259\n",
            "LotArea            0\n",
            "                ... \n",
            "MoSold             0\n",
            "YrSold             0\n",
            "SaleType           0\n",
            "SaleCondition      0\n",
            "SalePrice          0\n",
            "Length: 81, dtype: int64\n",
            "\n",
            "***********************************************\n",
            "\n"
          ]
        }
      ]
    },
    {
      "cell_type": "markdown",
      "source": [
        "### 4. checking whether data follow Normal Distribution or skewed Distribution."
      ],
      "metadata": {
        "id": "qedW3T3iqIPg"
      }
    },
    {
      "metadata": {
        "_uuid": "f126eef8b56b801cf8f149cf0a45f3325cc51d7e",
        "_cell_guid": "36e9618c-6e28-47a7-a28e-28bfdc81deb2",
        "trusted": true,
        "_kg_hide-input": true,
        "id": "e33ecZ4-A9pn",
        "colab": {
          "base_uri": "https://localhost:8080/",
          "height": 887
        },
        "outputId": "45b9ea1b-ee8e-47c4-9dd5-b4613547777c"
      },
      "cell_type": "code",
      "source": [
        "print(\"\\n******************* OutPut ********************\\n\")\n",
        "\n",
        "plt.figure(1)\n",
        "plt.title('Johnson SU')\n",
        "sns.distplot(x = dataframe['SalePrice'], kde=True,kde_kws={'color':'red'},fit=st.johnsonsu,color='c')\n",
        "plt.figure(2)\n",
        "plt.title('Normal')\n",
        "sns.distplot(x = dataframe['SalePrice'], kde=True,kde_kws={'color':'red'},fit=st.norm,color='c')\n",
        "plt.figure(3) \n",
        "plt.title('Log Normal')\n",
        "sns.distplot(x = dataframe['SalePrice'], kde=True,kde_kws={'color':'red'},fit=st.lognorm,color='c')"
      ],
      "execution_count": 126,
      "outputs": [
        {
          "output_type": "stream",
          "name": "stdout",
          "text": [
            "\n",
            "******************* OutPut ********************\n",
            "\n"
          ]
        },
        {
          "output_type": "execute_result",
          "data": {
            "text/plain": [
              "<matplotlib.axes._subplots.AxesSubplot at 0x7f8c262cfcd0>"
            ]
          },
          "metadata": {},
          "execution_count": 126
        },
        {
          "output_type": "display_data",
          "data": {
            "text/plain": [
              "<Figure size 432x288 with 1 Axes>"
            ],
            "image/png": "[encoded data removed]"
          },
          "metadata": {
            "needs_background": "light"
          }
        },
        {
          "output_type": "display_data",
          "data": {
            "text/plain": [
              "<Figure size 432x288 with 1 Axes>"
            ],
            "image/png": "[encoded data removed]"
          },
          "metadata": {
            "needs_background": "light"
          }
        },
        {
          "output_type": "display_data",
          "data": {
            "text/plain": [
              "<Figure size 432x288 with 1 Axes>"
            ],
            "image/png": "[encoded data removed]"
          },
          "metadata": {
            "needs_background": "light"
          }
        }
      ]
    },
    {
      "metadata": {
        "_uuid": "566694b5562b27dd4218225b8a493f0ac2ac5168",
        "_cell_guid": "b518fe5e-0ffb-4401-8e00-bedcf9caf784",
        "id": "upA_Ga92A9pn"
      },
      "cell_type": "markdown",
      "source": [
        "It is apparent that SalePrice doesn't follow normal distribution, so before performing regression it has to be transformed. While log transformation does pretty good job, best fit is unbounded Johnson distribution."
      ]
    },
    {
      "metadata": {
        "_uuid": "56f52accf94c7aaf86ae26d4c7a1e642a8d4af3a",
        "_cell_guid": "b54fe84e-8c8b-4007-8ce3-4f69770062e8",
        "trusted": true,
        "_kg_hide-input": true,
        "id": "uY-0Z0mqA9pn",
        "colab": {
          "base_uri": "https://localhost:8080/",
          "height": 402
        },
        "outputId": "81f63257-52c8-4a62-c1bb-85479008125d"
      },
      "cell_type": "code",
      "source": [
        "print(\"\\n******************* OutPut ********************\\n\")\n",
        "plt.figure(figsize=(15,5))\n",
        "sns.distplot(x = dataframe['SalePrice'], color ='orange'); #orientation = 'vertical',histtype = 'bar'\n",
        "plt.show()\n",
        "plt.tight_layout()"
      ],
      "execution_count": 127,
      "outputs": [
        {
          "output_type": "stream",
          "name": "stdout",
          "text": [
            "\n",
            "******************* OutPut ********************\n",
            "\n"
          ]
        },
        {
          "output_type": "display_data",
          "data": {
            "text/plain": [
              "<Figure size 1080x360 with 1 Axes>"
            ],
            "image/png": "[encoded data removed]"
          },
          "metadata": {
            "needs_background": "light"
          }
        },
        {
          "output_type": "display_data",
          "data": {
            "text/plain": [
              "<Figure size 432x288 with 0 Axes>"
            ]
          },
          "metadata": {}
        }
      ]
    },
    {
      "cell_type": "markdown",
      "source": [
        "#### After applying log to the sales Price Feature"
      ],
      "metadata": {
        "id": "GxzMr987Bp59"
      }
    },
    {
      "metadata": {
        "_uuid": "b2ca045af9133550236376c79f5c254926fbc371",
        "_cell_guid": "6ffde378-b902-4d49-962f-3c9c015319c4",
        "trusted": true,
        "_kg_hide-input": true,
        "id": "ljH7DkMAA9pn",
        "colab": {
          "base_uri": "https://localhost:8080/",
          "height": 374
        },
        "outputId": "097fb63f-9377-42eb-ef50-3992407bb2d0"
      },
      "cell_type": "code",
      "source": [
        "print(\"\\n******************* OutPut ********************\\n\")\n",
        "plt.figure(figsize=(15,5))\n",
        "target = np.log(dataframe['SalePrice'])\n",
        "sns.distplot(x = target,color='c');"
      ],
      "execution_count": 128,
      "outputs": [
        {
          "output_type": "stream",
          "name": "stdout",
          "text": [
            "\n",
            "******************* OutPut ********************\n",
            "\n"
          ]
        },
        {
          "output_type": "display_data",
          "data": {
            "text/plain": [
              "<Figure size 1080x360 with 1 Axes>"
            ],
            "image/png": "[encoded data removed]"
          },
          "metadata": {
            "needs_background": "light"
          }
        }
      ]
    },
    {
      "metadata": {
        "_uuid": "ceb967ad93761c0c4b284bfb8ac53ed6bf8c5fbf",
        "id": "kYkjUWp2A9pn"
      },
      "cell_type": "markdown",
      "source": [
        "### 5. Finding Correlation coefficients (Sales Price feature vs Remaning Features)"
      ]
    },
    {
      "metadata": {
        "_uuid": "bd79daafb27e304d3f4d516a61d43ba05860b620",
        "_cell_guid": "dbbf9c71-d0c3-49cb-a023-43191e144ff0",
        "trusted": true,
        "_kg_hide-input": true,
        "id": "Ub-YRQcmA9po",
        "colab": {
          "base_uri": "https://localhost:8080/"
        },
        "outputId": "3a9e6cff-db06-4f18-e3d1-753c85ece336"
      },
      "cell_type": "code",
      "source": [
        "print(\"\\n******************* OutPut ********************\\n\")\n",
        "correlation = numeric_features.corr()\n",
        "print(correlation['SalePrice'].sort_values(ascending = False),'\\n')\n",
        "print(\"\\n***********************************************\\n\")"
      ],
      "execution_count": 129,
      "outputs": [
        {
          "output_type": "stream",
          "name": "stdout",
          "text": [
            "\n",
            "******************* OutPut ********************\n",
            "\n",
            "SalePrice        1.000000\n",
            "OverallQual      0.790982\n",
            "GrLivArea        0.708624\n",
            "GarageCars       0.640409\n",
            "GarageArea       0.623431\n",
            "TotalBsmtSF      0.613581\n",
            "1stFlrSF         0.605852\n",
            "FullBath         0.560664\n",
            "TotRmsAbvGrd     0.533723\n",
            "YearBuilt        0.522897\n",
            "YearRemodAdd     0.507101\n",
            "GarageYrBlt      0.486362\n",
            "MasVnrArea       0.477493\n",
            "Fireplaces       0.466929\n",
            "BsmtFinSF1       0.386420\n",
            "LotFrontage      0.351799\n",
            "WoodDeckSF       0.324413\n",
            "2ndFlrSF         0.319334\n",
            "OpenPorchSF      0.315856\n",
            "HalfBath         0.284108\n",
            "LotArea          0.263843\n",
            "BsmtFullBath     0.227122\n",
            "BsmtUnfSF        0.214479\n",
            "BedroomAbvGr     0.168213\n",
            "ScreenPorch      0.111447\n",
            "PoolArea         0.092404\n",
            "MoSold           0.046432\n",
            "3SsnPorch        0.044584\n",
            "BsmtFinSF2      -0.011378\n",
            "BsmtHalfBath    -0.016844\n",
            "MiscVal         -0.021190\n",
            "Id              -0.021917\n",
            "LowQualFinSF    -0.025606\n",
            "YrSold          -0.028923\n",
            "OverallCond     -0.077856\n",
            "MSSubClass      -0.084284\n",
            "EnclosedPorch   -0.128578\n",
            "KitchenAbvGr    -0.135907\n",
            "Name: SalePrice, dtype: float64 \n",
            "\n",
            "\n",
            "***********************************************\n",
            "\n"
          ]
        }
      ]
    },
    {
      "metadata": {
        "_uuid": "698f7d6b7579b585de6c1cec507283559eaedb39",
        "_cell_guid": "20168dd5-0687-44c9-b8eb-215ad2f73546",
        "id": "qTa3LYrdA9po"
      },
      "cell_type": "markdown",
      "source": [
        "#### To explore further we will start with the following visualisation methods to analyze the data better:\n",
        "\n",
        " - Correlation Heat Map\n",
        " - Zoomed Heat Map\n",
        "\n"
      ]
    },
    {
      "metadata": {
        "_uuid": "d8aea7cf094d562f868240b7ce1df7526b6df27b",
        "_cell_guid": "6d007b6d-d449-4640-a4e6-14b6bf363157",
        "id": "B7jwGtZWA9po"
      },
      "cell_type": "markdown",
      "source": [
        "#### Correlation Heat Map"
      ]
    },
    {
      "metadata": {
        "_uuid": "1a744afad01b1cd57c0af57ccde8970659d511d9",
        "_cell_guid": "f9b804c1-83bd-4235-9694-c7f3f5bcaeef",
        "trusted": true,
        "_kg_hide-input": true,
        "id": "OMK1PJsdA9po",
        "colab": {
          "base_uri": "https://localhost:8080/",
          "height": 917
        },
        "outputId": "352363f2-8005-450e-f5cd-4c1096066504"
      },
      "cell_type": "code",
      "source": [
        "print(\"\\n\\t\\t\\t\\t******************* OutPut ********************\\n\")\n",
        "fig, ax = plt.subplots(figsize = (14,12))\n",
        "\n",
        "plt.title('Correlation of Numeric Features with Sale Price',y=1,size=16)\n",
        "\n",
        "sns.heatmap(correlation,square = True,  vmax=0.8,cmap='viridis');\n",
        "plt.tight_layout()"
      ],
      "execution_count": 130,
      "outputs": [
        {
          "output_type": "stream",
          "name": "stdout",
          "text": [
            "\n",
            "\t\t\t\t******************* OutPut ********************\n",
            "\n"
          ]
        },
        {
          "output_type": "display_data",
          "data": {
            "text/plain": [
              "<Figure size 1008x864 with 2 Axes>"
            ],
            "image/png": "[encoded data removed]"
          },
          "metadata": {
            "needs_background": "light"
          }
        }
      ]
    },
    {
      "metadata": {
        "_uuid": "42c198a3246944045a13b78fbd75fcfa0c3212e0",
        "_cell_guid": "24ff5221-2b85-43cf-b7c3-9426ab7ab702",
        "id": "FRBqMJ2SA9po"
      },
      "cell_type": "markdown",
      "source": [
        "The heatmap is a great tool for getting a quick overview of correlated features, as it is shown in seaborn. At a glance, it is possible to see two red squares that indicate strong correlations between two variables. The first is between 'TotalBsmtSF' and '1stFlrSF', and the second is between the 'GarageX' variables. These correlations are so strong that they may indicate multicollinearity, meaning that the variables give almost the same information. The heatmap also shows the correlations between 'SalePrice' and features such as 'GrLivArea', 'TotalBsmtSF', and 'OverallQual'. However, other features may also have some level of correlation with 'SalePrice', and this can be further investigated using a zoomed heatmap."
      ]
    },
    {
      "metadata": {
        "_uuid": "635775b5fdfeedde3783481ab13db972b94de0c8",
        "_cell_guid": "5cd75c1b-0c69-4fd2-b11b-cb29e6c286bc",
        "id": "mk8QRbwDA9po"
      },
      "cell_type": "markdown",
      "source": [
        "#### SalePrice Correlation Matrix with Zoomed HeatMap"
      ]
    },
    {
      "metadata": {
        "_uuid": "5848fde3e986b422974d37ea087296a1e1cddc12",
        "_cell_guid": "8ba97896-3cbf-44fb-ac16-9a2517d6d9ab",
        "trusted": true,
        "_kg_hide-input": true,
        "id": "yMHgOAs8A9po",
        "colab": {
          "base_uri": "https://localhost:8080/",
          "height": 920
        },
        "outputId": "d451b1eb-40f5-4fdb-def8-2efde3a05591"
      },
      "cell_type": "code",
      "source": [
        "print(\"\\n\\t\\t\\t******************* OutPut ********************\\n\")\n",
        "cols = correlation.nlargest(10,'SalePrice')['SalePrice'].index\n",
        "print(cols)\n",
        "print(\"\\n\\t\\t\\t**********************************************\\n\")\n",
        "confusion_matrix_ = np.corrcoef(dataframe[cols].values.T)\n",
        "fig , ax = plt.subplots(figsize = (14,12))\n",
        "sns.heatmap(confusion_matrix_, vmax=.8, linewidths=0.01,square=True,annot=True,cmap='viridis',\n",
        "            linecolor=\"white\",xticklabels = cols.values ,annot_kws = {'size':12},yticklabels = cols.values);"
      ],
      "execution_count": 131,
      "outputs": [
        {
          "output_type": "stream",
          "name": "stdout",
          "text": [
            "\n",
            "\t\t\t******************* OutPut ********************\n",
            "\n",
            "Index(['SalePrice', 'OverallQual', 'GrLivArea', 'GarageCars', 'GarageArea',\n",
            "       'TotalBsmtSF', '1stFlrSF', 'FullBath', 'TotRmsAbvGrd', 'YearBuilt'],\n",
            "      dtype='object')\n",
            "\n",
            "\t\t\t**********************************************\n",
            "\n"
          ]
        },
        {
          "output_type": "display_data",
          "data": {
            "text/plain": [
              "<Figure size 1008x864 with 2 Axes>"
            ],
            "image/png": "[encoded data removed]"
          },
          "metadata": {
            "needs_background": "light"
          }
        }
      ]
    },
    {
      "metadata": {
        "collapsed": true,
        "_uuid": "6ea895154c10479468984db37b050544311ce410",
        "_cell_guid": "b01f8a5e-4689-4bff-b97b-c21c3a4974cc",
        "id": "y-Dx9IX5A9po"
      },
      "cell_type": "markdown",
      "source": [
        "From above zoomed heatmap it is observed that GarageCars & GarageArea are closely correlated .\n",
        "Similarly TotalBsmtSF and 1stFlrSF are also closely correlated.\n"
      ]
    },
    {
      "metadata": {
        "_uuid": "427d762d8bfc7b0c1a070c8af8fa5ffb5cacfd9e",
        "_cell_guid": "0343c9d9-3d94-4e4c-9ed5-8bf96c0b7462",
        "id": "lwz2rpcLA9pp"
      },
      "cell_type": "markdown",
      "source": [
        "The main findings from my observations are:\n",
        "\n",
        "1 The variables 'OverallQual', 'GrLivArea', and 'TotalBsmtSF' have a strong correlation with 'SalePrice'.\n",
        "\n",
        "2 'GarageCars' and 'GarageArea' are highly correlated and are similar to twin brothers. We can keep 'GarageCars' as it has a higher correlation with 'SalePrice'.\n",
        "\n",
        "3 'TotalBsmtSF' and '1stFloor' are also like twins, and we will keep 'TotalBsmtSF' in our analysis.\n",
        "\n",
        "4 'TotRmsAbvGrd' and 'GrLivArea' are also twins.\n",
        "\n",
        "5 'YearBuilt' appears to have a slightly positive correlation with 'SalePrice', and further analysis, such as time series analysis, may be necessary to confirm this."
      ]
    },
    {
      "metadata": {
        "_uuid": "e1fbc826ab1d617374d99b4e8a8ca986ec13a86c",
        "_cell_guid": "75ec0607-5082-4a93-868e-e5eba8050212",
        "id": "s2xzGLjzA9pp"
      },
      "cell_type": "markdown",
      "source": [
        "The pair plots offer valuable insights into the correlations between the variables. One noticeable relationship is between 'TotalBsmtSF' and 'GrLiveArea', where the majority of the dots form a linear line. Additionally, there is an exponential pattern between 'SalePrice' and 'YearBuilt', with prices increasing faster in recent years."
      ]
    },
    {
      "cell_type": "markdown",
      "source": [
        "### 6. To check and Remove outliers in Numeric Features"
      ],
      "metadata": {
        "id": "_7pdfKrhulGw"
      }
    },
    {
      "cell_type": "code",
      "source": [
        "print(\"\\n******************* OutPut ********************\\n\")\n",
        "plt.figure(figsize=(10,5))\n",
        "sns.boxplot(x=dataframe['SalePrice']);"
      ],
      "metadata": {
        "id": "8hRgKBdvuo1R",
        "colab": {
          "base_uri": "https://localhost:8080/",
          "height": 391
        },
        "outputId": "baf75335-28ee-4918-83e3-4d56a10619d4"
      },
      "execution_count": 132,
      "outputs": [
        {
          "output_type": "stream",
          "name": "stdout",
          "text": [
            "\n",
            "******************* OutPut ********************\n",
            "\n"
          ]
        },
        {
          "output_type": "display_data",
          "data": {
            "text/plain": [
              "<Figure size 720x360 with 1 Axes>"
            ],
            "image/png": "[encoded data removed]"
          },
          "metadata": {
            "needs_background": "light"
          }
        }
      ]
    },
    {
      "cell_type": "markdown",
      "source": [
        "#### To remove Outliers we are finding Quantiles"
      ],
      "metadata": {
        "id": "PAX0aAhSvJup"
      }
    },
    {
      "cell_type": "code",
      "source": [
        "Q1 = dataframe.quantile(0.25)\n",
        "Q3 = dataframe.quantile(0.75)\n",
        "IQR = Q3 - Q1\n",
        "print(\"\\n******************* OutPut ********************\\n\")\n",
        "print(IQR)\n",
        "print(\"\\n************************************************\\n\")"
      ],
      "metadata": {
        "id": "_EMyz8Hau5S8",
        "colab": {
          "base_uri": "https://localhost:8080/"
        },
        "outputId": "c6d19b22-efdd-439d-984c-a4e377c43692"
      },
      "execution_count": 133,
      "outputs": [
        {
          "output_type": "stream",
          "name": "stdout",
          "text": [
            "\n",
            "******************* OutPut ********************\n",
            "\n",
            "Id                 729.50\n",
            "MSSubClass          50.00\n",
            "LotFrontage         21.00\n",
            "LotArea           4048.00\n",
            "OverallQual          2.00\n",
            "OverallCond          1.00\n",
            "YearBuilt           46.00\n",
            "YearRemodAdd        37.00\n",
            "MasVnrArea         166.00\n",
            "BsmtFinSF1         712.25\n",
            "BsmtFinSF2           0.00\n",
            "BsmtUnfSF          585.00\n",
            "TotalBsmtSF        502.50\n",
            "1stFlrSF           509.25\n",
            "2ndFlrSF           728.00\n",
            "LowQualFinSF         0.00\n",
            "GrLivArea          647.25\n",
            "BsmtFullBath         1.00\n",
            "BsmtHalfBath         0.00\n",
            "FullBath             1.00\n",
            "HalfBath             1.00\n",
            "BedroomAbvGr         1.00\n",
            "KitchenAbvGr         0.00\n",
            "TotRmsAbvGrd         2.00\n",
            "Fireplaces           1.00\n",
            "GarageYrBlt         41.00\n",
            "GarageCars           1.00\n",
            "GarageArea         241.50\n",
            "WoodDeckSF         168.00\n",
            "OpenPorchSF         68.00\n",
            "EnclosedPorch        0.00\n",
            "3SsnPorch            0.00\n",
            "ScreenPorch          0.00\n",
            "PoolArea             0.00\n",
            "MiscVal              0.00\n",
            "MoSold               3.00\n",
            "YrSold               2.00\n",
            "SalePrice        84025.00\n",
            "dtype: float64\n",
            "\n",
            "************************************************\n",
            "\n"
          ]
        }
      ]
    },
    {
      "cell_type": "code",
      "source": [
        "dataframe = dataframe[~((dataframe < (Q1 - 1.5 * IQR)) |(dataframe > (Q3 + 1.5 * IQR))).any(axis=1)]\n",
        "print(\"\\n******************* OutPut ********************\\n\")\n",
        "print(dataframe.shape)\n",
        "print(\"\\n***********************************************\\n\")"
      ],
      "metadata": {
        "id": "A_6EbK8HvHtg",
        "colab": {
          "base_uri": "https://localhost:8080/"
        },
        "outputId": "4813ce34-75b9-454e-8fa6-34cbe9d3ea40"
      },
      "execution_count": 134,
      "outputs": [
        {
          "output_type": "stream",
          "name": "stdout",
          "text": [
            "\n",
            "******************* OutPut ********************\n",
            "\n",
            "(563, 81)\n",
            "\n",
            "***********************************************\n",
            "\n"
          ]
        }
      ]
    },
    {
      "cell_type": "markdown",
      "source": [
        "#### Sales Price feature after Removing outliers"
      ],
      "metadata": {
        "id": "j6pdgoa80UHs"
      }
    },
    {
      "cell_type": "code",
      "source": [
        "print(\"\\n******************* OutPut ********************\\n\")\n",
        "plt.figure(figsize=(10,5))\n",
        "sns.boxplot(x=dataframe[\"SalePrice\"]);"
      ],
      "metadata": {
        "id": "keUbO4zYvSQD",
        "colab": {
          "base_uri": "https://localhost:8080/",
          "height": 391
        },
        "outputId": "03f6ea03-6496-454f-cf43-0b76ec192d9f"
      },
      "execution_count": 135,
      "outputs": [
        {
          "output_type": "stream",
          "name": "stdout",
          "text": [
            "\n",
            "******************* OutPut ********************\n",
            "\n"
          ]
        },
        {
          "output_type": "display_data",
          "data": {
            "text/plain": [
              "<Figure size 720x360 with 1 Axes>"
            ],
            "image/png": "[encoded data removed]"
          },
          "metadata": {
            "needs_background": "light"
          }
        }
      ]
    }
  ],
  "metadata": {
    "kernelspec": {
      "display_name": "Python 3",
      "language": "python",
      "name": "python3"
    },
    "language_info": {
      "name": "python",
      "version": "3.6.6",
      "mimetype": "text/x-python",
      "codemirror_mode": {
        "name": "ipython",
        "version": 3
      },
      "pygments_lexer": "ipython3",
      "nbconvert_exporter": "python",
      "file_extension": ".py"
    },
    "colab": {
      "provenance": [],
      "include_colab_link": true
    }
  },
  "nbformat": 4,
  "nbformat_minor": 0
}